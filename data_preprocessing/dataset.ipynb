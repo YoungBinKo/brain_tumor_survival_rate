{
 "cells": [
  {
   "cell_type": "code",
   "execution_count": 17,
   "metadata": {},
   "outputs": [],
   "source": [
    "import random\n",
    "import os\n",
    "import nibabel as nib\n",
    "import numpy as np\n",
    "import torch\n",
    "from torch.utils.data.dataset import Dataset\n",
    "import monai\n",
    "from pathlib import Path\n",
    "import glob\n",
    "import matplotlib.pyplot as plt"
   ]
  },
  {
   "cell_type": "code",
   "execution_count": 33,
   "metadata": {},
   "outputs": [],
   "source": [
    "class BratsDataset:\n",
    "    def __init__(self, data_dir, transform=None, mask=False):\n",
    "        self.data_dir = data_dir\n",
    "        self.transform = transform\n",
    "        self.filenames = os.listdir(data_dir)\n",
    "\n",
    "    def __len__(self):\n",
    "        return len(self.filenames)\n",
    "\n",
    "    def __getitem__(self, idx):\n",
    "        filename = self.filenames[idx]\n",
    "        print(filename)\n",
    "        nii_files = glob.glob(self.data_dir+'/*.nii.gz')\n",
    "        print(nii_files)\n",
    "        imgs = [nib.load(file_path).get_fdata() for file_path in nii_files]\n",
    "        print(imgs)\n",
    "        merged_img = np.concatenate(imgs, axis=2)\n",
    "        if self.transform:\n",
    "            transformed = self.transform(merged_img)\n",
    "            img = transformed['img']\n",
    "        return img"
   ]
  },
  {
   "cell_type": "code",
   "execution_count": 36,
   "metadata": {},
   "outputs": [],
   "source": [
    "def get_train_tfms(seed=42):\n",
    "    transforms = monai.transforms.Compose([\n",
    "        monai.transforms.RandSpatialCropd(keys=['img', 'mask'], roi_size=(120, 120, 120), random_size=True),\n",
    "        monai.transforms.Resized(keys=['img', 'mask'], spatial_size=(128, 128, 128), mode=['area', 'nearest']),\n",
    "        monai.transforms.RandFlipd(keys=['img', 'mask'], prob=0.5, spatial_axis=0),\n",
    "        monai.transforms.RandFlipd(keys=['img', 'mask'], prob=0.5, spatial_axis=1),\n",
    "        monai.transforms.RandFlipd(keys=['img', 'mask'], prob=0.5, spatial_axis=2),\n",
    "        monai.transforms.RandAdjustContrastd(keys=\"img\", prob=0.7, gamma=(0.5, 2.5)),\n",
    "        monai.transforms.RandShiftIntensityd(keys=\"img\", offsets=0.125, prob=0.7),\n",
    "        monai.transforms.ToTensor(dtype=torch.float),\n",
    "    ])\n",
    "    transforms.set_random_state(seed)\n",
    "    return transforms\n",
    "\n",
    "def get_test_tfms(seed=42):\n",
    "    transforms = monai.transforms.Compose([monai.transforms.ToTensor(dtype=torch.float)])\n",
    "    transforms.set_random_state(seed)\n",
    "    return transforms\n",
    "\n",
    "def get_datasets(brats_dir, val_split=0.05, seed=42):\n",
    "    brats_dir = Path(brats_dir)\n",
    "    test_paths = list((brats_dir / 'test_15')).glob('*t1.nii.gz')\n",
    "    test_dataset = BratsDataset(test_paths, get_test_tfms(seed=seed), mask=False)\n",
    "\n",
    "    # paths = list((Path(train_folder)).glob('*t1.nii.gz'))\n",
    "    # random.shuffle(paths)\n",
    "    # nb_examples = len(paths)\n",
    "    # train_split = 1 - val_split\n",
    "    # train_paths = paths[0: int(nb_examples*train_split)]\n",
    "    # valid_paths = paths[int(nb_examples*train_split):]\n",
    "    train_paths = list((brats_dir / 'train_for_nf_248')).glob('*t1.nii.gz')\n",
    "    train_dataset = BratsDataset(train_paths, get_train_tfms(seed=seed), mask=True)\n",
    "    valid_paths = list((brats_dir / 'val')).glob('*t1.nii.gz')\n",
    "    valid_dataset = BratsDataset(valid_paths, get_test_tfms(seed=seed), mask=True)\n",
    "\n",
    "    return train_dataset, valid_dataset, test_dataset"
   ]
  }
 ],
 "metadata": {
  "kernelspec": {
   "display_name": "Python 3",
   "language": "python",
   "name": "python3"
  },
  "language_info": {
   "codemirror_mode": {
    "name": "ipython",
    "version": 3
   },
   "file_extension": ".py",
   "mimetype": "text/x-python",
   "name": "python",
   "nbconvert_exporter": "python",
   "pygments_lexer": "ipython3",
   "version": "3.8.10"
  },
  "orig_nbformat": 4,
  "vscode": {
   "interpreter": {
    "hash": "e7370f93d1d0cde622a1f8e1c04877d8463912d04d973331ad4851f04de6915a"
   }
  }
 },
 "nbformat": 4,
 "nbformat_minor": 2
}
