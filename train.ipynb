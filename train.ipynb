{
 "cells": [
  {
   "cell_type": "code",
   "execution_count": 1,
   "metadata": {},
   "outputs": [
    {
     "name": "stdout",
     "output_type": "stream",
     "text": [
      "Jax version 0.4.1\n",
      "Flax version 0.5.1\n"
     ]
    }
   ],
   "source": [
    "import os\n",
    "# os.environ['XLA_PYTHON_CLIENT_MEM_FRACTION'] = '0.8'\n",
    "os.environ['XLA_PYTHON_CLIENT_PREALLOCATE'] = 'false'\n",
    "import jax\n",
    "import flax\n",
    "import jax.numpy as jnp\n",
    "import flax.linen as nn\n",
    "import wandb\n",
    "\n",
    "import time\n",
    "from functools import partial\n",
    "\n",
    "import numpy as np\n",
    "from matplotlib import pyplot as plt\n",
    "\n",
    "print('Jax version', jax.__version__)\n",
    "print('Flax version', flax.__version__)\n",
    "random_key = jax.random.PRNGKey(0)"
   ]
  },
  {
   "cell_type": "code",
   "execution_count": 2,
   "metadata": {},
   "outputs": [],
   "source": [
    "import warnings\n",
    "warnings.filterwarnings(\"ignore\", category=UserWarning)"
   ]
  },
  {
   "cell_type": "code",
   "execution_count": 3,
   "metadata": {},
   "outputs": [
    {
     "name": "stderr",
     "output_type": "stream",
     "text": [
      "Failed to detect the name of this notebook, you can set it manually with the WANDB_NOTEBOOK_NAME environment variable to enable code saving.\n",
      "\u001b[34m\u001b[1mwandb\u001b[0m: Currently logged in as: \u001b[33myoungbinkoko\u001b[0m (\u001b[33mglow-jax\u001b[0m). Use \u001b[1m`wandb login --relogin`\u001b[0m to force relogin\n"
     ]
    },
    {
     "data": {
      "text/html": [
       "wandb version 0.13.10 is available!  To upgrade, please run:\n",
       " $ pip install wandb --upgrade"
      ],
      "text/plain": [
       "<IPython.core.display.HTML object>"
      ]
     },
     "metadata": {},
     "output_type": "display_data"
    },
    {
     "data": {
      "text/html": [
       "Tracking run with wandb version 0.13.9"
      ],
      "text/plain": [
       "<IPython.core.display.HTML object>"
      ]
     },
     "metadata": {},
     "output_type": "display_data"
    },
    {
     "data": {
      "text/html": [
       "Run data is saved locally in <code>/dhc/home/youngbin.ko/glow_brain/model/wandb/run-20230224_155731-v9uwv7fo</code>"
      ],
      "text/plain": [
       "<IPython.core.display.HTML object>"
      ]
     },
     "metadata": {},
     "output_type": "display_data"
    },
    {
     "data": {
      "text/html": [
       "Syncing run <strong><a href=\"https://wandb.ai/glow-jax/brain/runs/v9uwv7fo\" target=\"_blank\">wise-river-36</a></strong> to <a href=\"https://wandb.ai/glow-jax/brain\" target=\"_blank\">Weights & Biases</a> (<a href=\"https://wandb.me/run\" target=\"_blank\">docs</a>)<br/>"
      ],
      "text/plain": [
       "<IPython.core.display.HTML object>"
      ]
     },
     "metadata": {},
     "output_type": "display_data"
    },
    {
     "data": {
      "text/html": [
       " View project at <a href=\"https://wandb.ai/glow-jax/brain\" target=\"_blank\">https://wandb.ai/glow-jax/brain</a>"
      ],
      "text/plain": [
       "<IPython.core.display.HTML object>"
      ]
     },
     "metadata": {},
     "output_type": "display_data"
    },
    {
     "data": {
      "text/html": [
       " View run at <a href=\"https://wandb.ai/glow-jax/brain/runs/v9uwv7fo\" target=\"_blank\">https://wandb.ai/glow-jax/brain/runs/v9uwv7fo</a>"
      ],
      "text/plain": [
       "<IPython.core.display.HTML object>"
      ]
     },
     "metadata": {},
     "output_type": "display_data"
    }
   ],
   "source": [
    "wandb.init(project=\"brain\", entity=\"glow-jax\")\n",
    "config = wandb.config\n",
    "config.batch_size = 128\n",
    "config.learning_rate = 1e-3\n",
    "config.epochs = 30"
   ]
  },
  {
   "attachments": {},
   "cell_type": "markdown",
   "metadata": {},
   "source": [
    "# Data"
   ]
  },
  {
   "cell_type": "code",
   "execution_count": 4,
   "metadata": {},
   "outputs": [
    {
     "name": "stderr",
     "output_type": "stream",
     "text": [
      "2023-02-24 15:57:40.255887: W tensorflow/compiler/xla/stream_executor/platform/default/dso_loader.cc:64] Could not load dynamic library 'libnvinfer.so.7'; dlerror: libnvinfer.so.7: cannot open shared object file: No such file or directory\n",
      "2023-02-24 15:57:40.256018: W tensorflow/compiler/xla/stream_executor/platform/default/dso_loader.cc:64] Could not load dynamic library 'libnvinfer_plugin.so.7'; dlerror: libnvinfer_plugin.so.7: cannot open shared object file: No such file or directory\n",
      "2023-02-24 15:57:40.256030: W tensorflow/compiler/tf2tensorrt/utils/py_utils.cc:38] TF-TRT Warning: Cannot dlopen some TensorRT libraries. If you would like to use Nvidia GPU with TensorRT, please make sure the missing libraries mentioned above are installed properly.\n",
      "/dhc/home/youngbin.ko/conda3/envs/glowenv/lib/python3.8/site-packages/tqdm/auto.py:22: TqdmWarning: IProgress not found. Please update jupyter and ipywidgets. See https://ipywidgets.readthedocs.io/en/stable/user_install.html\n",
      "  from .autonotebook import tqdm as notebook_tqdm\n"
     ]
    }
   ],
   "source": [
    "import glob\n",
    "import tensorflow as tf\n",
    "import tensorflow_datasets as tfds\n",
    "# tf.config.experimental.set_visible_devices([], 'GPU')\n",
    "import matplotlib.pyplot as plt\n",
    "import einops\n",
    "from torch.utils.data.dataset import Dataset\n",
    "from torch.utils.data import DataLoader\n",
    "from pathlib import Path"
   ]
  },
  {
   "cell_type": "code",
   "execution_count": null,
   "metadata": {},
   "outputs": [],
   "source": [
    "def map_fn(image, num_bits=5, size=256, training=True):\n",
    "    \"\"\"Transform the image data and quantize.\n",
    "    If num_bits = 8, there is no quantization effect.\"\"\"\n",
    "    # Resize input image\n",
    "    image = tf.cast(image, tf.float32)\n",
    "    # tf.make_ndarray(image)\n",
    "    image = tf.image.resize(image, (size, size))\n",
    "    image = tf.clip_by_value(image, 0., 255.)\n",
    "    # Discretize to the given number of bits\n",
    "    if num_bits < 8:\n",
    "        image = tf.floor(image / 2 ** (8 - num_bits))\n",
    "    # Send to [-1, 1]\n",
    "    num_bins = 2 ** num_bits\n",
    "    image = image / num_bins - 0.5\n",
    "    if training:\n",
    "        image = image + tf.random.uniform(tf.shape(image), 0, 1. / num_bins)\n",
    "    return image\n"
   ]
  },
  {
   "cell_type": "code",
   "execution_count": null,
   "metadata": {},
   "outputs": [],
   "source": [
    "def get_train_dataset(image_path, image_size, num_bits, batch_size, **kwargs):\n",
    "    del kwargs\n",
    "    empty_tensor = tf.constant([], dtype=tf.float32)\n",
    "    train_ds = tf.data.Dataset.from_tensor_slices(empty_tensor)\n",
    "    file_paths = glob.glob(f\"{image_path}/*.npy\")\n",
    "    np.random.shuffle(file_paths)\n",
    "    for file_path in file_paths:\n",
    "        filename = os.path.basename(file_path)\n",
    "        slices_path = os.path.join('/dhc/home/youngbin.ko/glow_brain/data/slices_train_64', f'{filename.split(\".\")[0]}_slices.npy')\n",
    "        if os.path.exists(slices_path):\n",
    "                # If slices already exist, load and concatenate them to the train_ds\n",
    "                slices = np.load(slices_path)\n",
    "                slices_dataset = tf.data.Dataset.from_tensor_slices(slices)\n",
    "                train_ds = train_ds.concatenate(slices_dataset)\n",
    "        else:\n",
    "            # If slices do not exist, generate them and save them to slices_path\n",
    "            slices_dataset = generate_slices_npy(file_path, image_size, num_bits, True)\n",
    "            train_ds = train_ds.concatenate(slices_dataset)\n",
    "\n",
    "    num_elements = train_ds.cardinality().numpy()\n",
    "    print(\"Number of elements in train_ds:\", num_elements/155)    \n",
    "    train_ds = train_ds.batch(batch_size)\n",
    "    train_ds = train_ds.repeat()\n",
    "    return iter(tfds.as_numpy(train_ds))\n",
    "\n",
    "# to save slices in .npy format\n",
    "def generate_slices_npy(file_path, image_size, num_bits, training):\n",
    "    img = np.load(file_path)\n",
    "    dir_path, filename = os.path.split(file_path)\n",
    "    if img.shape[0] == 0:\n",
    "        return tf.data.Dataset.from_tensor_slices([])\n",
    "    img = einops.rearrange(img, 'm h w s -> s h w m')\n",
    "    slices = []\n",
    "    for slice in range(img.shape[0]):\n",
    "        slices.append(img[slice, :, :, :])\n",
    "    slices_dataset = tf.data.Dataset.from_tensor_slices(slices)\n",
    "    slices_ds = slices_dataset.map(partial(map_fn, size=image_size, num_bits=num_bits, training=training))\n",
    "    # output_dir = os.path.join(dir_path, 'slices')\n",
    "    # os.makedirs(output_dir, exist_ok=True)\n",
    "    #output_path = os.path.join('/dhc/home/youngbin.ko/glow_brain/data/slices_train_64', f'{filename.split(\".\")[0]}_slices.npy')\n",
    "    output_path = os.path.join('/dhc/home/youngbin.ko/glow_brain/data/slice_val_128', f'{filename.split(\".\")[0]}_slices.npy')\n",
    "    slices_array = np.array(list(slices_ds.as_numpy_iterator()))\n",
    "    np.save(output_path, slices_array)\n",
    "\n",
    "    return slices_ds"
   ]
  },
  {
   "cell_type": "code",
   "execution_count": 5,
   "metadata": {},
   "outputs": [],
   "source": [
    "#after creating slices.npy use this function\n",
    "def get_train_dataset(image_path, image_size, num_bits, batch_size, **kwargs):\n",
    "    del kwargs\n",
    "    empty_tensor = tf.constant([], dtype=tf.float32)\n",
    "    train_ds = tf.data.Dataset.from_tensor_slices(empty_tensor)\n",
    "    file_paths = glob.glob(f\"{image_path}/*.npy\")\n",
    "    np.random.shuffle(file_paths)\n",
    "    #train_file_paths = file_paths[:200]\n",
    "    for file_path in file_paths:\n",
    "        slices = np.load(file_path)\n",
    "        slices_dataset = tf.data.Dataset.from_tensor_slices(slices)\n",
    "        train_ds = train_ds.concatenate(slices_dataset)\n",
    "    ds_list = list(train_ds)\n",
    "    np.random.shuffle(ds_list)\n",
    "    train_ds = tf.data.Dataset.from_tensor_slices(ds_list)\n",
    "    train_ds = train_ds.batch(batch_size)\n",
    "    train_ds = train_ds.repeat()\n",
    "    num_elements = train_ds.cardinality().numpy()\n",
    "    print(\"Number of elements in train_ds:\", num_elements)\n",
    "    return iter(tfds.as_numpy(train_ds))\n",
    "\n",
    "def get_val_dataset(image_path, image_size, num_bits, batch_size, **kwargs):\n",
    "    del kwargs\n",
    "    empty_tensor = tf.constant([], dtype=tf.float32)\n",
    "    valid_ds = tf.data.Dataset.from_tensor_slices(empty_tensor)\n",
    "    file_paths = glob.glob(f\"{image_path}/*.npy\")\n",
    "\n",
    "    for file_path in file_paths:\n",
    "        slices = np.load(file_path)\n",
    "        slices_dataset = tf.data.Dataset.from_tensor_slices(slices)\n",
    "        valid_ds = valid_ds.concatenate(slices_dataset)\n",
    "    valid_ds = valid_ds.batch(batch_size)\n",
    "    num_elements = valid_ds.cardinality().numpy()\n",
    "    print(\"Number of elements in valid_ds:\", num_elements)\n",
    "    return iter(tfds.as_numpy(valid_ds))"
   ]
  },
  {
   "cell_type": "code",
   "execution_count": 6,
   "metadata": {},
   "outputs": [
    {
     "name": "stderr",
     "output_type": "stream",
     "text": [
      "2023-02-24 15:57:45.918416: W tensorflow/compiler/xla/stream_executor/platform/default/dso_loader.cc:64] Could not load dynamic library 'libcufft.so.10'; dlerror: libcufft.so.10: cannot open shared object file: No such file or directory\n",
      "2023-02-24 15:57:45.918514: W tensorflow/compiler/xla/stream_executor/platform/default/dso_loader.cc:64] Could not load dynamic library 'libcurand.so.10'; dlerror: libcurand.so.10: cannot open shared object file: No such file or directory\n",
      "2023-02-24 15:57:45.918576: W tensorflow/compiler/xla/stream_executor/platform/default/dso_loader.cc:64] Could not load dynamic library 'libcusolver.so.11'; dlerror: libcusolver.so.11: cannot open shared object file: No such file or directory\n",
      "2023-02-24 15:57:45.918632: W tensorflow/compiler/xla/stream_executor/platform/default/dso_loader.cc:64] Could not load dynamic library 'libcusparse.so.11'; dlerror: libcusparse.so.11: cannot open shared object file: No such file or directory\n",
      "2023-02-24 15:57:45.918688: W tensorflow/core/common_runtime/gpu/gpu_device.cc:1934] Cannot dlopen some GPU libraries. Please make sure the missing libraries mentioned above are installed properly if you would like to use GPU. Follow the guide at https://www.tensorflow.org/install/gpu for how to download and setup the required libraries for your platform.\n",
      "Skipping registering GPU devices...\n"
     ]
    },
    {
     "name": "stdout",
     "output_type": "stream",
     "text": [
      "Number of elements in train_ds: -1\n",
      "Number of elements in valid_ds: 37\n"
     ]
    }
   ],
   "source": [
    "train_dataset = get_train_dataset('/dhc/home/youngbin.ko/glow_brain/data/slices_train_64', 64, 8, 128)\n",
    "val_dataset = get_val_dataset('/dhc/home/youngbin.ko/glow_brain/data/slices_val_64', 64, 8, 128)"
   ]
  },
  {
   "cell_type": "code",
   "execution_count": null,
   "metadata": {},
   "outputs": [],
   "source": [
    "img = next(train_dataset)\n",
    "print(img.shape)\n",
    "plt.imshow(img[15,:, :, :])\n",
    "plt.show()"
   ]
  },
  {
   "cell_type": "code",
   "execution_count": null,
   "metadata": {},
   "outputs": [],
   "source": [
    "def get_val_dataset(image_path, image_size, num_bits, batch_size, take=None, repeat=False, **kwargs):\n",
    "    del kwargs\n",
    "    empty_tensor = tf.constant([], dtype=tf.float32)\n",
    "    valid_ds = tf.data.Dataset.from_tensor_slices(empty_tensor)\n",
    "    file_paths = glob.glob(f\"{image_path}/*.npy\")\n",
    "\n",
    "    for file_path in file_paths:\n",
    "        filename = os.path.basename(file_path)\n",
    "        slices_path = os.path.join('/dhc/home/youngbin.ko/glow_brain/data/slice_val_128', f'{filename.split(\".\")[0]}_slices.npy')\n",
    "        slices_dataset = generate_slices_npy(file_path, image_size, num_bits, False)\n",
    "        valid_ds = valid_ds.concatenate(slices_dataset)\n",
    "\n",
    "    #val_ds = tf.data.Dataset.from_tensor_slices(slices)\n",
    "    #valid_ds = valid_ds.map(partial(map_fn, size=image_size, num_bits=num_bits, training=False))\n",
    "    valid_ds = valid_ds.batch(batch_size)\n",
    "    if repeat:\n",
    "        valid_ds = valid_ds.repeat()\n",
    "    return iter(tfds.as_numpy(valid_ds))"
   ]
  },
  {
   "cell_type": "code",
   "execution_count": null,
   "metadata": {},
   "outputs": [],
   "source": [
    "#train_dataset = get_train_dataset('/dhc/home/youngbin.ko/glow_brain/data/train', 256, 8, 32)\n",
    "val_dataset = get_val_dataset('/dhc/home/youngbin.ko/glow_brain/data/val', 128, 8, 128)"
   ]
  },
  {
   "cell_type": "code",
   "execution_count": null,
   "metadata": {},
   "outputs": [],
   "source": [
    "img = next(val_dataset)\n",
    "print(img.shape)\n",
    "plt.imshow(img[5,:, :, :], cmap='gray')\n",
    "plt.show()"
   ]
  },
  {
   "attachments": {},
   "cell_type": "markdown",
   "metadata": {},
   "source": [
    "# Train"
   ]
  },
  {
   "cell_type": "code",
   "execution_count": 7,
   "metadata": {},
   "outputs": [],
   "source": [
    "from layers import squeeze, unsqueeze\n",
    "from layers import Split\n",
    "from layers import ActNorm, Conv1x1, AffineCoupling\n",
    "\n",
    "from model import FlowStep, GLOW\n",
    "\n",
    "from utils import summarize_jax_model\n",
    "from utils import plot_image_grid"
   ]
  },
  {
   "cell_type": "code",
   "execution_count": 8,
   "metadata": {},
   "outputs": [],
   "source": [
    "@jax.vmap\n",
    "def get_logpz(z, priors):\n",
    "    logpz = 0\n",
    "    for zi, priori in zip(z, priors):\n",
    "        if priori is None:\n",
    "            mu = jnp.zeros(zi.shape)\n",
    "            logsigma = jnp.zeros(zi.shape)\n",
    "        else:\n",
    "            mu, logsigma = jnp.split(priori, 2, axis=-1)\n",
    "        logpz += jnp.sum(- logsigma - 0.5 * jnp.log(2 * jnp.pi) \n",
    "                         - 0.5 * (zi - mu) ** 2 / jnp.exp(2 * logsigma))\n",
    "    return logpz\n",
    "\n",
    "@jax.jit\n",
    "def postprocess(x, num_bits):\n",
    "    \"\"\"Map [-0.5, 0.5] quantized images to uint space\"\"\"\n",
    "    num_bins = 2 ** num_bits\n",
    "    x = jnp.floor((x + 0.5) * num_bins)\n",
    "    x *= 256. / num_bins\n",
    "\n",
    "def sample(model, \n",
    "           params, \n",
    "           eps=None, \n",
    "           shape=None, \n",
    "           sampling_temperature=1.0, \n",
    "           key=jax.random.PRNGKey(10),\n",
    "           postprocess_fn=None, \n",
    "           save_path=None,\n",
    "           display=True):\n",
    "    \"\"\"Sampling only requires a call to the reverse pass of the model\"\"\"\n",
    "    if eps is None:\n",
    "        zL = jax.random.normal(key, shape) \n",
    "    else: \n",
    "        zL = eps[-1]\n",
    "    y, *_ = model.apply(params, zL, eps=eps, sampling_temperature=sampling_temperature, reverse=True)\n",
    "    if postprocess_fn is not None:\n",
    "        y = postprocess_fn(y)\n",
    "    plot_image_grid(y, save_path=save_path, display=display,\n",
    "                    title=None if save_path is None else save_path.rsplit('.', 1)[0].rsplit('/', 1)[-1])\n",
    "    return y"
   ]
  },
  {
   "cell_type": "code",
   "execution_count": 8,
   "metadata": {},
   "outputs": [
    {
     "name": "stderr",
     "output_type": "stream",
     "text": [
      "Clipping input data to the valid range for imshow with RGB data ([0..1] for floats or [0..255] for integers).\n",
      "Clipping input data to the valid range for imshow with RGB data ([0..1] for floats or [0..255] for integers).\n",
      "Clipping input data to the valid range for imshow with RGB data ([0..1] for floats or [0..255] for integers).\n",
      "Clipping input data to the valid range for imshow with RGB data ([0..1] for floats or [0..255] for integers).\n",
      "Clipping input data to the valid range for imshow with RGB data ([0..1] for floats or [0..255] for integers).\n",
      "Clipping input data to the valid range for imshow with RGB data ([0..1] for floats or [0..255] for integers).\n",
      "Clipping input data to the valid range for imshow with RGB data ([0..1] for floats or [0..255] for integers).\n",
      "Clipping input data to the valid range for imshow with RGB data ([0..1] for floats or [0..255] for integers).\n",
      "Clipping input data to the valid range for imshow with RGB data ([0..1] for floats or [0..255] for integers).\n",
      "Clipping input data to the valid range for imshow with RGB data ([0..1] for floats or [0..255] for integers).\n",
      "Clipping input data to the valid range for imshow with RGB data ([0..1] for floats or [0..255] for integers).\n",
      "Clipping input data to the valid range for imshow with RGB data ([0..1] for floats or [0..255] for integers).\n",
      "Clipping input data to the valid range for imshow with RGB data ([0..1] for floats or [0..255] for integers).\n",
      "Clipping input data to the valid range for imshow with RGB data ([0..1] for floats or [0..255] for integers).\n",
      "Clipping input data to the valid range for imshow with RGB data ([0..1] for floats or [0..255] for integers).\n",
      "Clipping input data to the valid range for imshow with RGB data ([0..1] for floats or [0..255] for integers).\n",
      "Clipping input data to the valid range for imshow with RGB data ([0..1] for floats or [0..255] for integers).\n",
      "Clipping input data to the valid range for imshow with RGB data ([0..1] for floats or [0..255] for integers).\n",
      "Clipping input data to the valid range for imshow with RGB data ([0..1] for floats or [0..255] for integers).\n",
      "Clipping input data to the valid range for imshow with RGB data ([0..1] for floats or [0..255] for integers).\n",
      "Clipping input data to the valid range for imshow with RGB data ([0..1] for floats or [0..255] for integers).\n",
      "Clipping input data to the valid range for imshow with RGB data ([0..1] for floats or [0..255] for integers).\n",
      "Clipping input data to the valid range for imshow with RGB data ([0..1] for floats or [0..255] for integers).\n",
      "Clipping input data to the valid range for imshow with RGB data ([0..1] for floats or [0..255] for integers).\n",
      "Clipping input data to the valid range for imshow with RGB data ([0..1] for floats or [0..255] for integers).\n",
      "Clipping input data to the valid range for imshow with RGB data ([0..1] for floats or [0..255] for integers).\n",
      "Clipping input data to the valid range for imshow with RGB data ([0..1] for floats or [0..255] for integers).\n",
      "Clipping input data to the valid range for imshow with RGB data ([0..1] for floats or [0..255] for integers).\n",
      "Clipping input data to the valid range for imshow with RGB data ([0..1] for floats or [0..255] for integers).\n",
      "Clipping input data to the valid range for imshow with RGB data ([0..1] for floats or [0..255] for integers).\n",
      "Clipping input data to the valid range for imshow with RGB data ([0..1] for floats or [0..255] for integers).\n",
      "Clipping input data to the valid range for imshow with RGB data ([0..1] for floats or [0..255] for integers).\n",
      "Clipping input data to the valid range for imshow with RGB data ([0..1] for floats or [0..255] for integers).\n",
      "Clipping input data to the valid range for imshow with RGB data ([0..1] for floats or [0..255] for integers).\n",
      "Clipping input data to the valid range for imshow with RGB data ([0..1] for floats or [0..255] for integers).\n",
      "Clipping input data to the valid range for imshow with RGB data ([0..1] for floats or [0..255] for integers).\n",
      "Clipping input data to the valid range for imshow with RGB data ([0..1] for floats or [0..255] for integers).\n",
      "Clipping input data to the valid range for imshow with RGB data ([0..1] for floats or [0..255] for integers).\n",
      "Clipping input data to the valid range for imshow with RGB data ([0..1] for floats or [0..255] for integers).\n",
      "Clipping input data to the valid range for imshow with RGB data ([0..1] for floats or [0..255] for integers).\n",
      "Clipping input data to the valid range for imshow with RGB data ([0..1] for floats or [0..255] for integers).\n",
      "Clipping input data to the valid range for imshow with RGB data ([0..1] for floats or [0..255] for integers).\n",
      "Clipping input data to the valid range for imshow with RGB data ([0..1] for floats or [0..255] for integers).\n",
      "Clipping input data to the valid range for imshow with RGB data ([0..1] for floats or [0..255] for integers).\n",
      "Clipping input data to the valid range for imshow with RGB data ([0..1] for floats or [0..255] for integers).\n",
      "Clipping input data to the valid range for imshow with RGB data ([0..1] for floats or [0..255] for integers).\n",
      "Clipping input data to the valid range for imshow with RGB data ([0..1] for floats or [0..255] for integers).\n",
      "Clipping input data to the valid range for imshow with RGB data ([0..1] for floats or [0..255] for integers).\n",
      "Clipping input data to the valid range for imshow with RGB data ([0..1] for floats or [0..255] for integers).\n",
      "Clipping input data to the valid range for imshow with RGB data ([0..1] for floats or [0..255] for integers).\n",
      "Clipping input data to the valid range for imshow with RGB data ([0..1] for floats or [0..255] for integers).\n",
      "Clipping input data to the valid range for imshow with RGB data ([0..1] for floats or [0..255] for integers).\n",
      "Clipping input data to the valid range for imshow with RGB data ([0..1] for floats or [0..255] for integers).\n",
      "Clipping input data to the valid range for imshow with RGB data ([0..1] for floats or [0..255] for integers).\n",
      "Clipping input data to the valid range for imshow with RGB data ([0..1] for floats or [0..255] for integers).\n",
      "Clipping input data to the valid range for imshow with RGB data ([0..1] for floats or [0..255] for integers).\n",
      "Clipping input data to the valid range for imshow with RGB data ([0..1] for floats or [0..255] for integers).\n",
      "Clipping input data to the valid range for imshow with RGB data ([0..1] for floats or [0..255] for integers).\n",
      "Clipping input data to the valid range for imshow with RGB data ([0..1] for floats or [0..255] for integers).\n",
      "Clipping input data to the valid range for imshow with RGB data ([0..1] for floats or [0..255] for integers).\n",
      "Clipping input data to the valid range for imshow with RGB data ([0..1] for floats or [0..255] for integers).\n",
      "Clipping input data to the valid range for imshow with RGB data ([0..1] for floats or [0..255] for integers).\n",
      "Clipping input data to the valid range for imshow with RGB data ([0..1] for floats or [0..255] for integers).\n",
      "Clipping input data to the valid range for imshow with RGB data ([0..1] for floats or [0..255] for integers).\n",
      "Clipping input data to the valid range for imshow with RGB data ([0..1] for floats or [0..255] for integers).\n",
      "Clipping input data to the valid range for imshow with RGB data ([0..1] for floats or [0..255] for integers).\n",
      "Clipping input data to the valid range for imshow with RGB data ([0..1] for floats or [0..255] for integers).\n",
      "Clipping input data to the valid range for imshow with RGB data ([0..1] for floats or [0..255] for integers).\n",
      "Clipping input data to the valid range for imshow with RGB data ([0..1] for floats or [0..255] for integers).\n",
      "Clipping input data to the valid range for imshow with RGB data ([0..1] for floats or [0..255] for integers).\n",
      "Clipping input data to the valid range for imshow with RGB data ([0..1] for floats or [0..255] for integers).\n",
      "Clipping input data to the valid range for imshow with RGB data ([0..1] for floats or [0..255] for integers).\n",
      "Clipping input data to the valid range for imshow with RGB data ([0..1] for floats or [0..255] for integers).\n",
      "Clipping input data to the valid range for imshow with RGB data ([0..1] for floats or [0..255] for integers).\n",
      "Clipping input data to the valid range for imshow with RGB data ([0..1] for floats or [0..255] for integers).\n",
      "Clipping input data to the valid range for imshow with RGB data ([0..1] for floats or [0..255] for integers).\n",
      "Clipping input data to the valid range for imshow with RGB data ([0..1] for floats or [0..255] for integers).\n",
      "Clipping input data to the valid range for imshow with RGB data ([0..1] for floats or [0..255] for integers).\n",
      "Clipping input data to the valid range for imshow with RGB data ([0..1] for floats or [0..255] for integers).\n",
      "Clipping input data to the valid range for imshow with RGB data ([0..1] for floats or [0..255] for integers).\n",
      "Clipping input data to the valid range for imshow with RGB data ([0..1] for floats or [0..255] for integers).\n",
      "Clipping input data to the valid range for imshow with RGB data ([0..1] for floats or [0..255] for integers).\n",
      "Clipping input data to the valid range for imshow with RGB data ([0..1] for floats or [0..255] for integers).\n",
      "Clipping input data to the valid range for imshow with RGB data ([0..1] for floats or [0..255] for integers).\n",
      "Clipping input data to the valid range for imshow with RGB data ([0..1] for floats or [0..255] for integers).\n",
      "Clipping input data to the valid range for imshow with RGB data ([0..1] for floats or [0..255] for integers).\n",
      "Clipping input data to the valid range for imshow with RGB data ([0..1] for floats or [0..255] for integers).\n",
      "Clipping input data to the valid range for imshow with RGB data ([0..1] for floats or [0..255] for integers).\n",
      "Clipping input data to the valid range for imshow with RGB data ([0..1] for floats or [0..255] for integers).\n",
      "Clipping input data to the valid range for imshow with RGB data ([0..1] for floats or [0..255] for integers).\n",
      "Clipping input data to the valid range for imshow with RGB data ([0..1] for floats or [0..255] for integers).\n",
      "Clipping input data to the valid range for imshow with RGB data ([0..1] for floats or [0..255] for integers).\n",
      "Clipping input data to the valid range for imshow with RGB data ([0..1] for floats or [0..255] for integers).\n",
      "Clipping input data to the valid range for imshow with RGB data ([0..1] for floats or [0..255] for integers).\n",
      "Clipping input data to the valid range for imshow with RGB data ([0..1] for floats or [0..255] for integers).\n",
      "Clipping input data to the valid range for imshow with RGB data ([0..1] for floats or [0..255] for integers).\n",
      "Clipping input data to the valid range for imshow with RGB data ([0..1] for floats or [0..255] for integers).\n",
      "Clipping input data to the valid range for imshow with RGB data ([0..1] for floats or [0..255] for integers).\n",
      "Clipping input data to the valid range for imshow with RGB data ([0..1] for floats or [0..255] for integers).\n",
      "Clipping input data to the valid range for imshow with RGB data ([0..1] for floats or [0..255] for integers).\n",
      "Clipping input data to the valid range for imshow with RGB data ([0..1] for floats or [0..255] for integers).\n",
      "Clipping input data to the valid range for imshow with RGB data ([0..1] for floats or [0..255] for integers).\n",
      "Clipping input data to the valid range for imshow with RGB data ([0..1] for floats or [0..255] for integers).\n",
      "Clipping input data to the valid range for imshow with RGB data ([0..1] for floats or [0..255] for integers).\n",
      "Clipping input data to the valid range for imshow with RGB data ([0..1] for floats or [0..255] for integers).\n",
      "Clipping input data to the valid range for imshow with RGB data ([0..1] for floats or [0..255] for integers).\n",
      "Clipping input data to the valid range for imshow with RGB data ([0..1] for floats or [0..255] for integers).\n",
      "Clipping input data to the valid range for imshow with RGB data ([0..1] for floats or [0..255] for integers).\n",
      "Clipping input data to the valid range for imshow with RGB data ([0..1] for floats or [0..255] for integers).\n",
      "Clipping input data to the valid range for imshow with RGB data ([0..1] for floats or [0..255] for integers).\n",
      "Clipping input data to the valid range for imshow with RGB data ([0..1] for floats or [0..255] for integers).\n",
      "Clipping input data to the valid range for imshow with RGB data ([0..1] for floats or [0..255] for integers).\n",
      "Clipping input data to the valid range for imshow with RGB data ([0..1] for floats or [0..255] for integers).\n",
      "Clipping input data to the valid range for imshow with RGB data ([0..1] for floats or [0..255] for integers).\n",
      "Clipping input data to the valid range for imshow with RGB data ([0..1] for floats or [0..255] for integers).\n",
      "Clipping input data to the valid range for imshow with RGB data ([0..1] for floats or [0..255] for integers).\n",
      "Clipping input data to the valid range for imshow with RGB data ([0..1] for floats or [0..255] for integers).\n",
      "Clipping input data to the valid range for imshow with RGB data ([0..1] for floats or [0..255] for integers).\n",
      "Clipping input data to the valid range for imshow with RGB data ([0..1] for floats or [0..255] for integers).\n",
      "Clipping input data to the valid range for imshow with RGB data ([0..1] for floats or [0..255] for integers).\n",
      "Clipping input data to the valid range for imshow with RGB data ([0..1] for floats or [0..255] for integers).\n"
     ]
    },
    {
     "data": {
      "image/png": "[encoded data removed]",
      "text/plain": [
       "<Figure size 1000x1000 with 242 Axes>"
      ]
     },
     "metadata": {},
     "output_type": "display_data"
    }
   ],
   "source": [
    "plot_image_grid(next(val_dataset),title=\"Input data sample\")\n"
   ]
  },
  {
   "cell_type": "code",
   "execution_count": 9,
   "metadata": {},
   "outputs": [],
   "source": [
    "def train_glow(train_ds,\n",
    "               val_ds=None,\n",
    "               num_samples=9,\n",
    "               image_size=64,\n",
    "               num_channels=4,\n",
    "               num_bits=8,\n",
    "               init_lr=1e-3,\n",
    "               num_epochs=1,\n",
    "               num_sample_epochs=1,\n",
    "               num_warmup_epochs=10,\n",
    "               num_save_epochs=1,\n",
    "               steps_per_epoch=416,\n",
    "               K=32,\n",
    "               L=3,\n",
    "               nn_width=512,\n",
    "               sampling_temperature=0.7,\n",
    "               learn_top_prior=True,\n",
    "               key=jax.random.PRNGKey(0),\n",
    "               **kwargs):\n",
    "    \"\"\"Simple training loop.\n",
    "    Args:\n",
    "        train_ds: Training dataset iterator (e.g. tensorflow dataset) 70%\n",
    "        val_ds: Validation dataset (optional) 30%\n",
    "        num_samples: Number of samples to generate at each epoch\n",
    "        image_size: Input image size\n",
    "        num_channels: Number of channels in input images\n",
    "        num_bits: Number of bits for discretization\n",
    "        init_lr: Initial learning rate (Adam)\n",
    "        num_epochs: Numer of training epochs\n",
    "        num_sample_epochs: Visualize sample at this interval\n",
    "        num_warmup_epochs: Linear warmup of the learning rate to init_lr\n",
    "        num_save_epochs: save mode at this interval\n",
    "        steps_per_epochs: Number of steps per epochs\n",
    "        K: Number of flow iterations in the GLOW model\n",
    "        L: number of scales in the GLOW model\n",
    "        nn_width: Layer width in the Affine Coupling Layer\n",
    "        sampling_temperature: Smoothing temperature for sampling from the \n",
    "            Gaussian priors (1 = no effect)\n",
    "        learn_top_prior: Whether to learn the prior for highest latent variable zL.\n",
    "            Otherwise, assumes standard unit Gaussian prior\n",
    "        key: Random seed\n",
    "    \"\"\"\n",
    "    del kwargs\n",
    "    # Init model\n",
    "    model = GLOW(K=K,\n",
    "                 L=L, \n",
    "                 nn_width=nn_width, \n",
    "                 learn_top_prior=learn_top_prior,\n",
    "                 key=key)\n",
    "    \n",
    "    # Init optimizer and learning rate schedule\n",
    "    params = model.init(random_key, next(train_ds))\n",
    "    opt = flax.optim.Adam(learning_rate=init_lr).create(params)\n",
    "    \n",
    "    def lr_warmup(step):\n",
    "        return init_lr * jnp.minimum(1., step / (num_warmup_epochs * steps_per_epoch + 1e-8))\n",
    "    \n",
    "    # Helper functions for training\n",
    "    bits_per_dims_norm = np.log(2.) * num_channels * image_size**2\n",
    "    @jax.jit\n",
    "    def get_logpx(z, logdets, priors):\n",
    "        logpz = get_logpz(z, priors)\n",
    "        logpz = jnp.mean(logpz) / bits_per_dims_norm        # bits per dimension normalization\n",
    "        logdets = jnp.mean(logdets) / bits_per_dims_norm\n",
    "        logpx = logpz + logdets - num_bits                  # num_bits: dequantization factor\n",
    "        return logpx, logpz, logdets\n",
    "        \n",
    "    @jax.jit\n",
    "    def train_step(opt, batch):\n",
    "        def loss_fn(params):\n",
    "            _, z, logdets, priors = model.apply(params, batch, reverse=False)\n",
    "            logpx, logpz, logdets = get_logpx(z, logdets, priors)\n",
    "            return - logpx, (logpz, logdets)\n",
    "        logs, grad = jax.value_and_grad(loss_fn, has_aux=True)(opt.target)\n",
    "        opt = opt.apply_gradient(grad, learning_rate=lr_warmup(opt.state.step))\n",
    "        return logs, opt\n",
    "    \n",
    "    # Helper functions for evaluation \n",
    "    @jax.jit\n",
    "    def eval_step(params, batch):\n",
    "        _, z, logdets, priors = model.apply(params, batch, reverse=False)\n",
    "        return - get_logpx(z, logdets, priors)[0]\n",
    "    \n",
    "    # Helper function for sampling from random latent fixed during training for comparison\n",
    "    eps = []\n",
    "    if not os.path.exists(\"samples\"): os.makedirs(\"samples\")\n",
    "    if not os.path.exists(\"weights\"): os.makedirs(\"weights\")\n",
    "    for i in range(L):\n",
    "        expected_h = image_size // 2**(i + 1)\n",
    "        expected_c = num_channels * 2**(i + 1)\n",
    "        if i == L - 1: expected_c *= 2\n",
    "        eps.append(jax.random.normal(key, (num_samples, expected_h, expected_h, expected_c)))\n",
    "    sample_fn = partial(sample, eps=eps, key=key, display=False,\n",
    "                        sampling_temperature=sampling_temperature)\n",
    "    \n",
    "    # Train\n",
    "    print(\"Start training...\")\n",
    "    print(\"Available jax devices:\", jax.devices())\n",
    "    print()\n",
    "    bits = 0.\n",
    "    start = time.time()\n",
    "    try:\n",
    "        for epoch in range(num_epochs):\n",
    "            # train\n",
    "            for i in range(steps_per_epoch):\n",
    "                batch = next(train_ds)\n",
    "                loss, opt = train_step(opt, batch)\n",
    "                print(f\"\\r\\033[92m[Epoch {epoch + 1}/{num_epochs}]\\033[0m\"\n",
    "                      f\"\\033[93m[Batch {i + 1}/{steps_per_epoch}]\\033[0m\"\n",
    "                      f\" loss = {loss[0]:.5f},\"\n",
    "                      f\" (log(p(z)) = {loss[1][0]:.5f},\"\n",
    "                      f\" logdet = {loss[1][1]:.5f})\", end='')\n",
    "                if np.isnan(loss[0]):\n",
    "                    print(\"\\nModel diverged - NaN loss\")\n",
    "                    return None, None\n",
    "                \n",
    "                step = epoch * steps_per_epoch + i + 1\n",
    "                if step % int(num_sample_epochs * steps_per_epoch) == 0:\n",
    "                    sample_fn(model, opt.target, \n",
    "                              save_path=f\"samples/step_{step:05d}.png\")\n",
    "                    # print(opt.target)\n",
    "                    # print(type(opt.target))\n",
    "                    # wandb.log({\n",
    "                    #     \"image\": wandb.Image(sample_fn)\n",
    "                    # }, step=step)\n",
    "\n",
    "            # eval on one batch of validation samples \n",
    "            # + generate random sample\n",
    "            t = time.time() - start\n",
    "            if val_ds is not None:\n",
    "                bits = eval_step(opt.target, next(val_ds))\n",
    "            print(f\"\\r\\033[92m[Epoch {epoch + 1}/{num_epochs}]\\033[0m\"\n",
    "                  f\"[{int(t // 3600):02d}h {int((t % 3600) // 60):02d}mn]\"\n",
    "                  f\" train_bits/dims = {loss[0]:.3f},\"\n",
    "                  f\" val_bits/dims = {bits:.3f}\" + \" \" * 50)\n",
    "            \n",
    "            # Save parameters\n",
    "            if (epoch + 1) % num_save_epochs == 0 or epoch == num_epochs - 1:\n",
    "                with open(f'weights/model_epoch={epoch + 1:03d}.weights', 'wb') as f:\n",
    "                    state_dict = flax.serialization.to_state_dict(opt.target)\n",
    "                    f.write(flax.serialization.to_bytes(state_dict))\n",
    "\n",
    "\n",
    "            wandb.log({\n",
    "                \"Train Loss\": loss[0],\n",
    "                \"Validation Loss\": bits,\n",
    "            }, step=epoch)\n",
    "\n",
    "            # for name, value in opt.target.items():\n",
    "            #     wandb.log({name: value})\n",
    "            \n",
    "    except KeyboardInterrupt:\n",
    "        print(f\"\\nInterrupted by user at epoch {epoch + 1}\")\n",
    "        \n",
    "    # returns final model and parameters\n",
    "    return model, opt.target"
   ]
  },
  {
   "cell_type": "code",
   "execution_count": 10,
   "metadata": {},
   "outputs": [],
   "source": [
    "config_dict = {\n",
    "    'image_size': 64,\n",
    "    'num_channels': 4,\n",
    "    'num_bits': 8,\n",
    "    'batch_size': 128,\n",
    "    'K': 16,\n",
    "    'L': 3,\n",
    "    'nn_width': 512, \n",
    "    'learn_top_prior': True,\n",
    "    'sampling_temperature': 0.7,\n",
    "    'init_lr': 1e-4,\n",
    "    'num_epochs': 30,\n",
    "    'num_warmup_epochs': 1,\n",
    "    'num_sample_epochs': 0.2, # Fractional epochs for sampling because one epoch is quite long \n",
    "    'num_save_epochs': 5,\n",
    "    'key':jax.random.PRNGKey(10)\n",
    "}\n",
    "\n",
    "output_hw = config_dict[\"image_size\"] // 2 ** config_dict[\"L\"]\n",
    "output_c = config_dict[\"num_channels\"] * 4**config_dict[\"L\"] // 2**(config_dict[\"L\"] - 1)\n",
    "config_dict[\"sampling_shape\"] = (output_hw, output_hw, output_c)"
   ]
  },
  {
   "cell_type": "code",
   "execution_count": 10,
   "metadata": {},
   "outputs": [
    {
     "ename": "NameError",
     "evalue": "name 'config_dict' is not defined",
     "output_type": "error",
     "traceback": [
      "\u001b[0;31m---------------------------------------------------------------------------\u001b[0m",
      "\u001b[0;31mNameError\u001b[0m                                 Traceback (most recent call last)",
      "Cell \u001b[0;32mIn[10], line 3\u001b[0m\n\u001b[1;32m      1\u001b[0m image_path\u001b[39m=\u001b[39m\u001b[39m\"\u001b[39m\u001b[39m/dhc/home/youngbin.ko/glow_brain/data/slices_train_64\u001b[39m\u001b[39m\"\u001b[39m\n\u001b[1;32m      2\u001b[0m num_images \u001b[39m=\u001b[39m \u001b[39mlen\u001b[39m(glob\u001b[39m.\u001b[39mglob(\u001b[39mf\u001b[39m\u001b[39m\"\u001b[39m\u001b[39m{\u001b[39;00mimage_path\u001b[39m}\u001b[39;00m\u001b[39m/*.npy\u001b[39m\u001b[39m\"\u001b[39m))\u001b[39m*\u001b[39m\u001b[39m155\u001b[39m\n\u001b[0;32m----> 3\u001b[0m config_dict[\u001b[39m'\u001b[39m\u001b[39msteps_per_epoch\u001b[39m\u001b[39m'\u001b[39m] \u001b[39m=\u001b[39m num_images \u001b[39m/\u001b[39m\u001b[39m/\u001b[39m config_dict[\u001b[39m'\u001b[39m\u001b[39mbatch_size\u001b[39m\u001b[39m'\u001b[39m]\n\u001b[1;32m      4\u001b[0m \u001b[39mprint\u001b[39m(\u001b[39mf\u001b[39m\u001b[39m\"\u001b[39m\u001b[39m{\u001b[39;00mnum_images\u001b[39m}\u001b[39;00m\u001b[39m training images\u001b[39m\u001b[39m\"\u001b[39m)\n\u001b[1;32m      5\u001b[0m \u001b[39mprint\u001b[39m(\u001b[39mf\u001b[39m\u001b[39m\"\u001b[39m\u001b[39m{\u001b[39;00mconfig_dict[\u001b[39m'\u001b[39m\u001b[39msteps_per_epoch\u001b[39m\u001b[39m'\u001b[39m]\u001b[39m}\u001b[39;00m\u001b[39m training steps per epoch\u001b[39m\u001b[39m\"\u001b[39m)\n",
      "\u001b[0;31mNameError\u001b[0m: name 'config_dict' is not defined"
     ]
    }
   ],
   "source": [
    "image_path=\"/dhc/home/youngbin.ko/glow_brain/data/slices_train_64\"\n",
    "num_images = len(glob.glob(f\"{image_path}/*.npy\"))*155\n",
    "config_dict['steps_per_epoch'] = num_images // config_dict['batch_size']\n",
    "print(f\"{num_images} training images\")\n",
    "print(f\"{config_dict['steps_per_epoch']} training steps per epoch\")"
   ]
  },
  {
   "cell_type": "code",
   "execution_count": 11,
   "metadata": {},
   "outputs": [],
   "source": [
    "model, params = train_glow(train_dataset, val_ds=val_dataset, **config_dict)\n",
    "#model, params = train_glow(train_dataset, **config_dict)"
   ]
  },
  {
   "cell_type": "code",
   "execution_count": null,
   "metadata": {},
   "outputs": [],
   "source": [
    "print(\"Random samples evolution during training\")\n",
    "from PIL import Image\n",
    "\n",
    "# filepaths\n",
    "fp_in = \"samples/step_*.png\"\n",
    "fp_out = \"sample_evolution.gif\"\n",
    "\n",
    "li_imgs = [np.asarray(Image.open(f)) for f in sorted(glob.glob(fp_in))]\n",
    "wandb.log({\"Samples during Training\": [wandb.Image(img) for img in li_imgs]})\n",
    "\n",
    "# https://pillow.readthedocs.io/en/stable/handbook/image-file-formats.html#gif\n",
    "img, *imgs = [Image.open(f) for f in sorted(glob.glob(fp_in))]\n",
    "img.save(fp=fp_out, format='GIF', append_images=imgs,\n",
    "         save_all=True, duration=200, loop=0)\n",
    "\n",
    "rand_imgs = (np.asarray(f) for f in imgs)\n",
    "wandb.log({\"Samples during Training\": [wandb.Image(img) for img in rand_imgs]})"
   ]
  },
  {
   "cell_type": "code",
   "execution_count": null,
   "metadata": {},
   "outputs": [],
   "source": [
    "model = GLOW(K=config_dict['K'],\n",
    "                 L=config_dict['L'], \n",
    "                 nn_width=config_dict['nn_width'], \n",
    "                 learn_top_prior=config_dict['learn_top_prior'])\n",
    "\n",
    "random_key = jax.random.PRNGKey(10)\n",
    "\n",
    "with open('weights/model_epoch=100.weights', 'rb') as f:\n",
    "    params = model.init(random_key, jnp.zeros((config_dict['batch_size'],\n",
    "                                                  config_dict['image_size'],\n",
    "                                                  config_dict['image_size'],\n",
    "                                                  config_dict['num_channels'])))\n",
    "    params = flax.serialization.from_bytes(params, f.read())\n",
    "\n",
    "def count_parameters(model):\n",
    "    total_params = 0\n",
    "    for param in model.params.values():\n",
    "        total_params += np.prod(param.shape)\n",
    "    return total_params\n",
    "\n",
    "num_params = count_parameters(model)\n",
    "print(f'Number of trainable parameters: {num_params}')"
   ]
  },
  {
   "cell_type": "code",
   "execution_count": null,
   "metadata": {},
   "outputs": [],
   "source": [
    "def reconstruct(model, params, batch):\n",
    "    global config_dict\n",
    "    x, z, logdets, priors = model.apply(params, batch, reverse=False)\n",
    "    print(z[-1])\n",
    "    rec, *_ = model.apply(params, z[-1], z=z, reverse=True)\n",
    "    #rec = postprocess(rec, config_dict[\"num_bits\"])\n",
    "    plot_image_grid(batch, title=\"original\")\n",
    "    plot_image_grid(rec, title=\"reconstructions\")\n",
    "    return z[-1]\n",
    "    \n",
    "\n",
    "def interpolate(model, params, batch, num_samples=16):\n",
    "    global config_dict\n",
    "    i1, i2 = np.random.choice(range(batch.shape[0]), size=2, replace=False)\n",
    "    in_ = np.stack([batch[i1], batch[i2]], axis=0)\n",
    "    x, z, logdets, priors = model.apply(params, in_, reverse=False)\n",
    "    # interpolate\n",
    "    interpolated_z = []\n",
    "    for zi in z:\n",
    "        z_1, z_2 = zi[:2]\n",
    "        interpolate = jnp.array([t * z_1 + (1 - t) * z_2 for t in np.linspace(0., 1., 16)])\n",
    "        interpolated_z.append(interpolate)\n",
    "    rec, *_ = model.apply(params, interpolated_z[-1], z=interpolated_z, reverse=True)\n",
    "    #rec = postprocess(rec, config_dict[\"num_bits\"])\n",
    "    plot_image_grid(rec, title=\"Linear interpolation\")"
   ]
  },
  {
   "cell_type": "code",
   "execution_count": null,
   "metadata": {},
   "outputs": [],
   "source": [
    "batch = next(val_dataset)\n",
    "img = reconstruct(model, params, batch)\n",
    "print(img.shape)\n",
    "plt.imshow(img[15,:, :, :])\n",
    "plt.show()"
   ]
  },
  {
   "cell_type": "code",
   "execution_count": null,
   "metadata": {},
   "outputs": [],
   "source": [
    "from flax.training.common_utils import get_metrics, shard\n",
    "\n",
    "# Load the trained weights\n",
    "with open('weights/model_epoch=100.weights', 'rb') as f:\n",
    "    params = flax.serialization.from_bytes(model.init(jax.random.PRNGKey(0),\n",
    "                jnp.zeros((1, 64, 64, 4)))['params'], f.read())\n",
    "\n",
    "# Define the input image\n",
    "img = Image.open('input_image.png')\n",
    "img = jnp.array(img.resize((64, 64))) / 255.0\n",
    "\n",
    "# Convert the input image to a batch of size 1\n",
    "batch = jnp.expand_dims(img, axis=0)\n",
    "\n",
    "# Reconstruct the image\n",
    "z, _, _, _ = model.apply({'params': params}, batch, reverse=False)\n",
    "reconstructed, _, _ = model.apply({'params': params}, z, reverse=True)\n",
    "\n",
    "# Plot the original and reconstructed images\n",
    "fig, axs = plt.subplots(1, 2, figsize=(8, 4))\n",
    "axs[0].imshow(img)\n",
    "axs[0].set_title('Original')\n",
    "axs[1].imshow(reconstructed[0])\n",
    "axs[1].set_title('Reconstructed')\n",
    "plt.show()"
   ]
  },
  {
   "cell_type": "code",
   "execution_count": null,
   "metadata": {},
   "outputs": [],
   "source": [
    "z = jax.random.normal(size=(128, model.z_size))\n",
    "samples = model.reverse(z)\n",
    "\n",
    "# Rescale the samples to the range [0, 1]\n",
    "samples = (samples + 1.0) / 2.0\n",
    "\n",
    "# Save the samples as an image grid\n",
    "fig = plt.figure(figsize=(8, 8))\n",
    "for i in range(16 * 8):\n",
    "    ax = fig.add_subplot(16, 8, i+1)\n",
    "    ax.imshow(samples[i], cmap='gray')\n",
    "    ax.axis('off')\n",
    "plt.savefig('glow_samples.png')\n",
    "plt.close(fig)"
   ]
  },
  {
   "cell_type": "code",
   "execution_count": null,
   "metadata": {},
   "outputs": [],
   "source": [
    "interpolate(model, params, batch)"
   ]
  },
  {
   "cell_type": "code",
   "execution_count": null,
   "metadata": {},
   "outputs": [],
   "source": [
    "# Generate some samples using the model\n",
    "z = np.random.normal(size=(128, model.z_size))\n",
    "samples = model.reverse(z)\n",
    "\n",
    "# Flatten the samples into a 1D array\n",
    "samples = samples.reshape(-1)\n",
    "\n",
    "# Plot a scatter plot of the samples to see if they look Gaussian\n",
    "plt.scatter(jnp.arange(len(samples)), samples)\n",
    "plt.show()\n"
   ]
  },
  {
   "cell_type": "code",
   "execution_count": null,
   "metadata": {},
   "outputs": [],
   "source": [
    "# check if a noise distribution of the same shape as the output as the same likelihood\n",
    "noise = np.random.normal(size=(128, 64, 64, 4))\n",
    "\n",
    "# Compute the log-likelihood of the noise\n",
    "log_likelihood_noise = -0.5 * jnp.log(2 * jnp.pi) * jnp.prod(noise.shape[1:]) - jnp.sum((noise ** 2) / 2, axis=(1,2,3))\n",
    "log_likelihood_noise = jnp.mean(log_likelihood_noise)\n",
    "\n",
    "# Compute the log-likelihood of the validation set\n",
    "log_likelihood_validation = jnp.mean(model.log_prob(val_dataset))\n",
    "\n",
    "print(f'Log-likelihood of noise: {log_likelihood_noise:.2f}')\n",
    "print(f'Log-likelihood of validation set: {log_likelihood_validation:.2f}')"
   ]
  }
 ],
 "metadata": {
  "kernelspec": {
   "display_name": "glowenv",
   "language": "python",
   "name": "python3"
  },
  "language_info": {
   "codemirror_mode": {
    "name": "ipython",
    "version": 3
   },
   "file_extension": ".py",
   "mimetype": "text/x-python",
   "name": "python",
   "nbconvert_exporter": "python",
   "pygments_lexer": "ipython3",
   "version": "3.8.15"
  },
  "orig_nbformat": 4,
  "vscode": {
   "interpreter": {
    "hash": "1ecb43bb3e0fcfd68c57e2963578c3d51573b5e550677459e896d951baeede56"
   }
  }
 },
 "nbformat": 4,
 "nbformat_minor": 2
}
